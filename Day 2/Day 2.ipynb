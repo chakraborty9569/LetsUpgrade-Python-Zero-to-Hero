{
 "cells": [
  {
   "cell_type": "markdown",
   "metadata": {},
   "source": [
    "## Question 1"
   ]
  },
  {
   "cell_type": "code",
   "execution_count": 2,
   "metadata": {},
   "outputs": [
    {
     "name": "stdout",
     "output_type": "stream",
     "text": [
      "Enter the item to be removed: 1\n",
      "[3, 4, 6, 5]\n"
     ]
    }
   ],
   "source": [
    "test_list = [1, 3, 4, 6, 5, 1]\n",
    "item=int(input(\"Enter the item to be removed: \"))\n",
    "for i in test_list:\n",
    "    if item==i:\n",
    "        test_list.remove(i)\n",
    "\n",
    "print(test_list)"
   ]
  },
  {
   "cell_type": "markdown",
   "metadata": {},
   "source": [
    "## Question 2"
   ]
  },
  {
   "cell_type": "code",
   "execution_count": 6,
   "metadata": {},
   "outputs": [
    {
     "name": "stdout",
     "output_type": "stream",
     "text": [
      "Enter the string: gdwyhwfvf\n",
      "Not a pangarm\n"
     ]
    }
   ],
   "source": [
    "import string\n",
    "st=input(\"Enter the string: \")\n",
    "alpha=string.ascii_letters\n",
    "f=0\n",
    "for i in alpha:\n",
    "    if i not in st:\n",
    "        f=1\n",
    "        break\n",
    "if f==0:\n",
    "    print(\"Is a pangram\")\n",
    "else:\n",
    "    print(\"Not a pangarm\")"
   ]
  }
 ],
 "metadata": {
  "kernelspec": {
   "display_name": "Python 3",
   "language": "python",
   "name": "python3"
  },
  "language_info": {
   "codemirror_mode": {
    "name": "ipython",
    "version": 3
   },
   "file_extension": ".py",
   "mimetype": "text/x-python",
   "name": "python",
   "nbconvert_exporter": "python",
   "pygments_lexer": "ipython3",
   "version": "3.7.6"
  }
 },
 "nbformat": 4,
 "nbformat_minor": 4
}
