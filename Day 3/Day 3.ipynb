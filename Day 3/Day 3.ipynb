{
 "cells": [
  {
   "cell_type": "code",
   "execution_count": 4,
   "metadata": {},
   "outputs": [
    {
     "name": "stdout",
     "output_type": "stream",
     "text": [
      "Enter the number of persons: 5\n",
      "2\n",
      "1\n",
      "5\n",
      "3\n",
      "4\n",
      "gift_presented_to[] list= [2, 1, 5, 3, 4]\n",
      "gift_received_from[] list= [2, 1, 4, 5, 3]\n"
     ]
    }
   ],
   "source": [
    "n=int(input(\"Enter the number of persons: \"))\n",
    "gift_presented_to=[]\n",
    "for i in range(n):\n",
    "    gift_presented_to.append(int(input()))\n",
    "\n",
    "print('gift_presented_to[] list=', gift_presented_to)\n",
    "gift_received_from=[]\n",
    "for i in range(n):\n",
    "    gift_received_from.append(gift_presented_to.index(i+1)+1)\n",
    "\n",
    "print('gift_received_from[] list=',gift_received_from)"
   ]
  }
 ],
 "metadata": {
  "kernelspec": {
   "display_name": "Python 3",
   "language": "python",
   "name": "python3"
  },
  "language_info": {
   "codemirror_mode": {
    "name": "ipython",
    "version": 3
   },
   "file_extension": ".py",
   "mimetype": "text/x-python",
   "name": "python",
   "nbconvert_exporter": "python",
   "pygments_lexer": "ipython3",
   "version": "3.7.6"
  }
 },
 "nbformat": 4,
 "nbformat_minor": 4
}
